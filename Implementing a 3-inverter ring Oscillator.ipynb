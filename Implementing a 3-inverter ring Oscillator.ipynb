{
 "cells": [
  {
   "cell_type": "markdown",
   "id": "75757ee8",
   "metadata": {},
   "source": [
    "# 1. Importing the required libraries"
   ]
  },
  {
   "cell_type": "code",
   "execution_count": 15,
   "id": "b4a2e867",
   "metadata": {},
   "outputs": [],
   "source": [
    "import numpy as np\n",
    "import pandas as pd\n",
    "import matplotlib.pyplot as plt"
   ]
  },
  {
   "cell_type": "markdown",
   "id": "9e9332ea",
   "metadata": {},
   "source": [
    "# 2. Defines a class ThreeInverterOscillator."
   ]
  },
  {
   "cell_type": "raw",
   "id": "e2f87202",
   "metadata": {},
   "source": [
    " __init__: The initializer method that sets up the initial state. self.stages holds the state of the three inverters\n",
    " (initialized to False), and self.output_history is an empty list to store the output over time."
   ]
  },
  {
   "cell_type": "code",
   "execution_count": 16,
   "id": "6c61bf81",
   "metadata": {},
   "outputs": [],
   "source": [
    "class ThreeInverterOscillator:\n",
    "    def __init__(self):\n",
    "        self.stages = [False, False, False]\n",
    "        self.output_history = []"
   ]
  },
  {
   "cell_type": "markdown",
   "id": "2ac4263b",
   "metadata": {},
   "source": [
    "# 3. Tick Method"
   ]
  },
  {
   "cell_type": "raw",
   "id": "736d8bea",
   "metadata": {},
   "source": [
    "- tick: Simulates one time step in the oscillator.\n",
    "- next_input = not self.stages[-1]: Determines the next input for the first inverter by inverting the output \n",
    "-  of the last inverter.\n",
    "- The for loop updates each inverter's state based on the state of the previous inverter.\n",
    "- The current state of the first inverter (self.stages[0]) is added to self.output_history for plotting."
   ]
  },
  {
   "cell_type": "code",
   "execution_count": 17,
   "id": "67b0bdf5",
   "metadata": {},
   "outputs": [],
   "source": [
    "    def tick(self):\n",
    "        next_input = not self.stages[-1]\n",
    "        for i in range(len(self.stages)):\n",
    "            current_input = self.stages[i]\n",
    "            self.stages[i] = next_input\n",
    "            next_input = not current_input\n",
    "        self.output_history.append(self.stages[0])"
   ]
  },
  {
   "cell_type": "markdown",
   "id": "6599c5dd",
   "metadata": {},
   "source": [
    "# 4. Run Method"
   ]
  },
  {
   "cell_type": "raw",
   "id": "32e0063e",
   "metadata": {},
   "source": [
    "run: Executes the tick method a specified number of times (ticks), simulating the oscillator over multiple time steps."
   ]
  },
  {
   "cell_type": "code",
   "execution_count": 18,
   "id": "b35417bc",
   "metadata": {},
   "outputs": [],
   "source": [
    "    def run(self, ticks):\n",
    "        for _ in range(ticks):\n",
    "            self.tick()"
   ]
  },
  {
   "cell_type": "markdown",
   "id": "3f593c32",
   "metadata": {},
   "source": [
    "# 5. Initialize and Run the Oscillator"
   ]
  },
  {
   "cell_type": "raw",
   "id": "31f0c9b0",
   "metadata": {},
   "source": [
    "Creates an instance of ThreeInverterOscillator.\n",
    "Calls the run method with 20 ticks to simulate the oscillator's behavior over 20 time steps."
   ]
  },
  {
   "cell_type": "code",
   "execution_count": 24,
   "id": "f6c56a15",
   "metadata": {},
   "outputs": [],
   "source": [
    "oscillator = ThreeInverterOscillator()\n",
    "oscillator.run(20)  \n",
    "time_steps = np.arange(0, 20, 1)  # Time steps from 0 to 19\n",
    "states = np.array(oscillator.output_history, dtype=int)  # Converting boolean to int for display"
   ]
  },
  {
   "cell_type": "markdown",
   "id": "03049b1b",
   "metadata": {},
   "source": [
    "# 6. Displaying the DataFrame"
   ]
  },
  {
   "cell_type": "code",
   "execution_count": 25,
   "id": "1e1a971a",
   "metadata": {},
   "outputs": [
    {
     "data": {
      "text/html": [
       "<div>\n",
       "<style scoped>\n",
       "    .dataframe tbody tr th:only-of-type {\n",
       "        vertical-align: middle;\n",
       "    }\n",
       "\n",
       "    .dataframe tbody tr th {\n",
       "        vertical-align: top;\n",
       "    }\n",
       "\n",
       "    .dataframe thead th {\n",
       "        text-align: right;\n",
       "    }\n",
       "</style>\n",
       "<table border=\"1\" class=\"dataframe\">\n",
       "  <thead>\n",
       "    <tr style=\"text-align: right;\">\n",
       "      <th></th>\n",
       "      <th>Time Step</th>\n",
       "      <th>Output State</th>\n",
       "    </tr>\n",
       "  </thead>\n",
       "  <tbody>\n",
       "    <tr>\n",
       "      <th>0</th>\n",
       "      <td>0</td>\n",
       "      <td>1</td>\n",
       "    </tr>\n",
       "    <tr>\n",
       "      <th>1</th>\n",
       "      <td>1</td>\n",
       "      <td>0</td>\n",
       "    </tr>\n",
       "    <tr>\n",
       "      <th>2</th>\n",
       "      <td>2</td>\n",
       "      <td>1</td>\n",
       "    </tr>\n",
       "    <tr>\n",
       "      <th>3</th>\n",
       "      <td>3</td>\n",
       "      <td>0</td>\n",
       "    </tr>\n",
       "    <tr>\n",
       "      <th>4</th>\n",
       "      <td>4</td>\n",
       "      <td>1</td>\n",
       "    </tr>\n",
       "    <tr>\n",
       "      <th>5</th>\n",
       "      <td>5</td>\n",
       "      <td>0</td>\n",
       "    </tr>\n",
       "    <tr>\n",
       "      <th>6</th>\n",
       "      <td>6</td>\n",
       "      <td>1</td>\n",
       "    </tr>\n",
       "    <tr>\n",
       "      <th>7</th>\n",
       "      <td>7</td>\n",
       "      <td>0</td>\n",
       "    </tr>\n",
       "    <tr>\n",
       "      <th>8</th>\n",
       "      <td>8</td>\n",
       "      <td>1</td>\n",
       "    </tr>\n",
       "    <tr>\n",
       "      <th>9</th>\n",
       "      <td>9</td>\n",
       "      <td>0</td>\n",
       "    </tr>\n",
       "    <tr>\n",
       "      <th>10</th>\n",
       "      <td>10</td>\n",
       "      <td>1</td>\n",
       "    </tr>\n",
       "    <tr>\n",
       "      <th>11</th>\n",
       "      <td>11</td>\n",
       "      <td>0</td>\n",
       "    </tr>\n",
       "    <tr>\n",
       "      <th>12</th>\n",
       "      <td>12</td>\n",
       "      <td>1</td>\n",
       "    </tr>\n",
       "    <tr>\n",
       "      <th>13</th>\n",
       "      <td>13</td>\n",
       "      <td>0</td>\n",
       "    </tr>\n",
       "    <tr>\n",
       "      <th>14</th>\n",
       "      <td>14</td>\n",
       "      <td>1</td>\n",
       "    </tr>\n",
       "    <tr>\n",
       "      <th>15</th>\n",
       "      <td>15</td>\n",
       "      <td>0</td>\n",
       "    </tr>\n",
       "    <tr>\n",
       "      <th>16</th>\n",
       "      <td>16</td>\n",
       "      <td>1</td>\n",
       "    </tr>\n",
       "    <tr>\n",
       "      <th>17</th>\n",
       "      <td>17</td>\n",
       "      <td>0</td>\n",
       "    </tr>\n",
       "    <tr>\n",
       "      <th>18</th>\n",
       "      <td>18</td>\n",
       "      <td>1</td>\n",
       "    </tr>\n",
       "    <tr>\n",
       "      <th>19</th>\n",
       "      <td>19</td>\n",
       "      <td>0</td>\n",
       "    </tr>\n",
       "  </tbody>\n",
       "</table>\n",
       "</div>"
      ],
      "text/plain": [
       "    Time Step  Output State\n",
       "0           0             1\n",
       "1           1             0\n",
       "2           2             1\n",
       "3           3             0\n",
       "4           4             1\n",
       "5           5             0\n",
       "6           6             1\n",
       "7           7             0\n",
       "8           8             1\n",
       "9           9             0\n",
       "10         10             1\n",
       "11         11             0\n",
       "12         12             1\n",
       "13         13             0\n",
       "14         14             1\n",
       "15         15             0\n",
       "16         16             1\n",
       "17         17             0\n",
       "18         18             1\n",
       "19         19             0"
      ]
     },
     "execution_count": 25,
     "metadata": {},
     "output_type": "execute_result"
    }
   ],
   "source": [
    "data = {\n",
    "    'Time Step': time_steps,\n",
    "    'Output State': states\n",
    "}\n",
    "\n",
    "df = pd.DataFrame(data)\n",
    "df\n"
   ]
  },
  {
   "cell_type": "markdown",
   "id": "39bd12e4",
   "metadata": {},
   "source": [
    "# 6. Plotting the Output"
   ]
  },
  {
   "cell_type": "code",
   "execution_count": 28,
   "id": "37ad7a8f",
   "metadata": {},
   "outputs": [
    {
     "data": {
      "image/png": "[encoded data removed]",
      "text/plain": [
       "<Figure size 1000x600 with 1 Axes>"
      ]
     },
     "metadata": {},
     "output_type": "display_data"
    }
   ],
   "source": [
    "time_steps = np.arange(0, 20, 1)\n",
    "states = np.array(oscillator.output_history, dtype=int)\n",
    "\n",
    "plt.figure(figsize=(10, 6))\n",
    "plt.step(time_steps, states, where='post')\n",
    "plt.title('3-Inverter Ring Oscillator Simulation', fontdict={'fontname': 'Comic Sans MS', 'fontsize': 20})\n",
    "plt.xlabel('Time Step', fontdict={'fontname': 'Comic Sans MS', 'fontsize': 20})\n",
    "plt.ylabel('Output State', fontdict={'fontname': 'Comic Sans MS', 'fontsize': 20})\n",
    "plt.ylim(-0.5, 1.5)\n",
    "plt.grid(True)\n",
    "plt.savefig('3-inverter-ring-oscillator', dpi=300)\n",
    "plt.show()"
   ]
  },
  {
   "cell_type": "code",
   "execution_count": null,
   "id": "3098c383",
   "metadata": {},
   "outputs": [],
   "source": []
  }
 ],
 "metadata": {
  "kernelspec": {
   "display_name": "Python 3 (ipykernel)",
   "language": "python",
   "name": "python3"
  },
  "language_info": {
   "codemirror_mode": {
    "name": "ipython",
    "version": 3
   },
   "file_extension": ".py",
   "mimetype": "text/x-python",
   "name": "python",
   "nbconvert_exporter": "python",
   "pygments_lexer": "ipython3",
   "version": "3.11.5"
  }
 },
 "nbformat": 4,
 "nbformat_minor": 5
}
